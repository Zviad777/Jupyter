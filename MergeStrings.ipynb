{
 "cells": [
  {
   "cell_type": "code",
   "execution_count": 35,
   "metadata": {},
   "outputs": [
    {
     "name": "stdout",
     "output_type": "stream",
     "text": [
      "Counter1: Counter({'s': 5, 'e': 3, 'd': 3, 'f': 3, 'a': 2, 'c': 1, 'g': 1, 'b': 1, 'x': 1, 'y': 1, 'n': 1, 't': 1, 'l': 1, 'i': 1}) Counter2: Counter({'o': 2, 'y': 2, 'j': 1, 'h': 1, 'n': 1, 'b': 1})\n",
      "count3\n",
      "count3\n",
      "count3\n",
      "count4\n",
      "count1 x o\n",
      "count1 y o\n",
      "count1 n o\n",
      "count2\n",
      "count2\n",
      "count2\n",
      "count2\n",
      "count2\n",
      "count2\n",
      "count2\n",
      "this is it: cgbjxynohnyboyeatalisdfsdfsdfssee\n"
     ]
    }
   ],
   "source": [
    "from collections import Counter\n",
    "import itertools\n",
    "\n",
    "output = ''\n",
    "\n",
    "def mergeStrings(s1, s2):\n",
    "    \n",
    "    s3 = ''\n",
    "    test = []\n",
    "    index1 = 0\n",
    "    index2 = 0\n",
    "\n",
    "    counter1 = Counter(s1)\n",
    "    counter2 = Counter(s2)\n",
    "    print(\"Counter1:\", counter1, \"Counter2:\", counter2)\n",
    "    len1=len(s1)\n",
    "    len2=len(s2)\n",
    "         \n",
    "    while (index1 in range(len1+1)):\n",
    "        if index2==len2:\n",
    "            s3=s3+s1[index1:]\n",
    "            break\n",
    "        elif index1==len1:\n",
    "            s3=s3+s2[index2:]\n",
    "            break \n",
    "                    \n",
    "        if counter1[s1[index1]] < counter2[s2[index2]]:\n",
    "            s3 = s3 + s1[index1]   \n",
    "            print(\"count1\", s1[index1], s2[index2])\n",
    "            index1=index1+1\n",
    "            \n",
    "        elif counter1[s1[index1]] > counter2[s2[index2]]:\n",
    "            s3 = s3 + s2[index2]\n",
    "            index2 = index2+1\n",
    "            print(\"count2\")\n",
    "            \n",
    "            \n",
    "        elif counter1[s1[index1]] == counter2[s2[index2]]:\n",
    "            if s1[index1] <= s2[index2]:\n",
    "                     s3 = s3 + s1[index1]\n",
    "                     index1=index1+1\n",
    "                     print(\"count3\")\n",
    "            else:\n",
    "                     s3 = s3 + s2[index2]\n",
    "                     index2 = index2+1\n",
    "                     print(\"count4\")\n",
    "                        \n",
    "            \n",
    "    return s3\n",
    "\n",
    "string1 = \"cgbxyneatalisdfsdfsdfssee\" \n",
    "string2 = \"johnyboy\"\n",
    "   \n",
    "\n",
    "output = mergeStrings(string1, string2)\n",
    "print(\"this is it:\", output)\n"
   ]
  },
  {
   "cell_type": "code",
   "execution_count": null,
   "metadata": {},
   "outputs": [],
   "source": []
  },
  {
   "cell_type": "code",
   "execution_count": null,
   "metadata": {},
   "outputs": [],
   "source": []
  },
  {
   "cell_type": "code",
   "execution_count": null,
   "metadata": {},
   "outputs": [],
   "source": []
  },
  {
   "cell_type": "code",
   "execution_count": null,
   "metadata": {},
   "outputs": [],
   "source": []
  }
 ],
 "metadata": {
  "kernelspec": {
   "display_name": "Python 3",
   "language": "python",
   "name": "python3"
  },
  "language_info": {
   "codemirror_mode": {
    "name": "ipython",
    "version": 3
   },
   "file_extension": ".py",
   "mimetype": "text/x-python",
   "name": "python",
   "nbconvert_exporter": "python",
   "pygments_lexer": "ipython3",
   "version": "3.8.2"
  }
 },
 "nbformat": 4,
 "nbformat_minor": 4
}
